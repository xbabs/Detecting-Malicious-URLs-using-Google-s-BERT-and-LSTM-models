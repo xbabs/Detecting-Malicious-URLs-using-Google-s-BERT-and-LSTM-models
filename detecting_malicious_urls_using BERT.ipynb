{
 "cells": [
  {
   "cell_type": "markdown",
   "metadata": {
    "id": "8trcbpFEUl2o"
   },
   "source": [
    "\n",
    "# Detection Malicious URL Using Google's BERT\n",
    "\n"
   ]
  },
  {
   "cell_type": "markdown",
   "metadata": {
    "id": "Iwg68-pN9A7d"
   },
   "source": [
    "A URL consists of the top-level domain, hostname, paths, and port of the web address, as in the following diagram:"
   ]
  },
  {
   "cell_type": "code",
   "execution_count": null,
   "metadata": {
    "id": "lNTEcw3j8ssP"
   },
   "outputs": [],
   "source": [
    "A URL consists of the top-level domain, hostname, paths, and port of the web addresses"
   ]
  },
  {
   "cell_type": "code",
   "execution_count": 2,
   "metadata": {
    "colab": {
     "base_uri": "https://localhost:8080/"
    },
    "execution": {
     "iopub.execute_input": "2023-04-01T06:04:12.137428Z",
     "iopub.status.busy": "2023-04-01T06:04:12.136798Z",
     "iopub.status.idle": "2023-04-01T06:04:26.083487Z",
     "shell.execute_reply": "2023-04-01T06:04:26.081805Z",
     "shell.execute_reply.started": "2023-04-01T06:04:12.137333Z"
    },
    "id": "lktjTL91Ul2r",
    "outputId": "a0883774-5f5c-46b3-c5ee-8ead56570960"
   },
   "outputs": [
    {
     "name": "stdout",
     "output_type": "stream",
     "text": [
      "Looking in indexes: https://pypi.org/simple, https://us-python.pkg.dev/colab-wheels/public/simple/\n",
      "Collecting tld\n",
      "  Downloading tld-0.13-py2.py3-none-any.whl (263 kB)\n",
      "\u001b[2K     \u001b[90m━━━━━━━━━━━━━━━━━━━━━━━━━━━━━━━━━━━━━━━\u001b[0m \u001b[32m263.8/263.8 kB\u001b[0m \u001b[31m5.0 MB/s\u001b[0m eta \u001b[36m0:00:00\u001b[0m\n",
      "\u001b[?25hInstalling collected packages: tld\n",
      "Successfully installed tld-0.13\n"
     ]
    }
   ],
   "source": [
    "!pip install tld"
   ]
  },
  {
   "cell_type": "code",
   "execution_count": 2,
   "metadata": {
    "colab": {
     "base_uri": "https://localhost:8080/"
    },
    "id": "CTzB5hhnrEBL",
    "outputId": "20b966e7-a57f-4263-eb5d-10bd1e4e153e"
   },
   "outputs": [
    {
     "name": "stdout",
     "output_type": "stream",
     "text": [
      "Requirement already satisfied: transformers in c:\\users\\dell\\anaconda3\\lib\\site-packages (4.26.1)\n",
      "Requirement already satisfied: numpy>=1.17 in c:\\users\\dell\\anaconda3\\lib\\site-packages (from transformers) (1.21.5)\n",
      "Requirement already satisfied: filelock in c:\\users\\dell\\anaconda3\\lib\\site-packages (from transformers) (3.6.0)\n",
      "Requirement already satisfied: packaging>=20.0 in c:\\users\\dell\\anaconda3\\lib\\site-packages (from transformers) (21.3)\n",
      "Requirement already satisfied: tokenizers!=0.11.3,<0.14,>=0.11.1 in c:\\users\\dell\\anaconda3\\lib\\site-packages (from transformers) (0.13.2)\n",
      "Requirement already satisfied: regex!=2019.12.17 in c:\\users\\dell\\anaconda3\\lib\\site-packages (from transformers) (2022.7.9)\n",
      "Requirement already satisfied: huggingface-hub<1.0,>=0.11.0 in c:\\users\\dell\\anaconda3\\lib\\site-packages (from transformers) (0.12.1)\n",
      "Requirement already satisfied: requests in c:\\users\\dell\\anaconda3\\lib\\site-packages (from transformers) (2.28.1)\n",
      "Requirement already satisfied: pyyaml>=5.1 in c:\\users\\dell\\anaconda3\\lib\\site-packages (from transformers) (6.0)\n",
      "Requirement already satisfied: tqdm>=4.27 in c:\\users\\dell\\anaconda3\\lib\\site-packages (from transformers) (4.64.1)\n",
      "Requirement already satisfied: typing-extensions>=3.7.4.3 in c:\\users\\dell\\anaconda3\\lib\\site-packages (from huggingface-hub<1.0,>=0.11.0->transformers) (4.3.0)\n",
      "Requirement already satisfied: pyparsing!=3.0.5,>=2.0.2 in c:\\users\\dell\\anaconda3\\lib\\site-packages (from packaging>=20.0->transformers) (3.0.9)\n",
      "Requirement already satisfied: colorama in c:\\users\\dell\\anaconda3\\lib\\site-packages (from tqdm>=4.27->transformers) (0.4.5)\n",
      "Requirement already satisfied: idna<4,>=2.5 in c:\\users\\dell\\anaconda3\\lib\\site-packages (from requests->transformers) (3.3)\n",
      "Requirement already satisfied: urllib3<1.27,>=1.21.1 in c:\\users\\dell\\anaconda3\\lib\\site-packages (from requests->transformers) (1.26.11)\n",
      "Requirement already satisfied: charset-normalizer<3,>=2 in c:\\users\\dell\\anaconda3\\lib\\site-packages (from requests->transformers) (2.0.4)\n",
      "Requirement already satisfied: certifi>=2017.4.17 in c:\\users\\dell\\anaconda3\\lib\\site-packages (from requests->transformers) (2022.9.14)\n"
     ]
    }
   ],
   "source": [
    "!pip install transformers"
   ]
  },
  {
   "cell_type": "code",
   "execution_count": 9,
   "metadata": {
    "execution": {
     "iopub.execute_input": "2023-04-01T06:04:26.087044Z",
     "iopub.status.busy": "2023-04-01T06:04:26.086451Z",
     "iopub.status.idle": "2023-04-01T06:04:27.203102Z",
     "shell.execute_reply": "2023-04-01T06:04:27.202109Z",
     "shell.execute_reply.started": "2023-04-01T06:04:26.086987Z"
    },
    "id": "ti0GzxT2Ul2s"
   },
   "outputs": [],
   "source": [
    "import re\n",
    "import numpy as np\n",
    "import pandas as pd\n",
    "import seaborn as sns\n",
    "import matplotlib.pyplot as plt\n",
    "from sklearn import tree\n",
    "import itertools\n",
    "\n",
    "from urllib.parse import urlparse\n",
    "\n",
    "from sklearn.model_selection import train_test_split\n",
    "from sklearn.metrics import confusion_matrix, classification_report, accuracy_score\n",
    "from sklearn.tree import DecisionTreeClassifier\n",
    "from sklearn.ensemble import RandomForestClassifier\n",
    "from sklearn.neighbors import KNeighborsClassifier\n",
    "from sklearn.linear_model import SGDClassifier\n",
    "from sklearn.naive_bayes import GaussianNB\n",
    "from tld import get_tld, is_tld\n",
    "\n",
    "import tensorflow as tf\n",
    "\n",
    "from tensorflow.keras.preprocessing.text import Tokenizer\n",
    "from tensorflow.keras.preprocessing.sequence import pad_sequences\n",
    "from tensorflow.keras.models import Sequential\n",
    "from tensorflow.keras.layers import Dense, Embedding, LSTM, SpatialDropout1D\n"
   ]
  },
  {
   "cell_type": "code",
   "execution_count": 3,
   "metadata": {
    "colab": {
     "base_uri": "https://localhost:8080/"
    },
    "id": "NDhxH2GsVB9v",
    "outputId": "16aef6ea-7392-48a9-ef47-5c7d74dbf8d4"
   },
   "outputs": [
    {
     "name": "stdout",
     "output_type": "stream",
     "text": [
      "Drive already mounted at /content/drive; to attempt to forcibly remount, call drive.mount(\"/content/drive\", force_remount=True).\n"
     ]
    }
   ],
   "source": [
    "# Mount the dataset from google drive\n",
    "from google.colab import drive\n",
    "drive.mount('/content/drive')"
   ]
  },
  {
   "cell_type": "markdown",
   "metadata": {
    "id": "4-GkY1xxUl2u"
   },
   "source": [
    "Load the dataset "
   ]
  },
  {
   "cell_type": "code",
   "execution_count": 4,
   "metadata": {
    "execution": {
     "iopub.execute_input": "2023-04-01T06:04:27.205518Z",
     "iopub.status.busy": "2023-04-01T06:04:27.204339Z",
     "iopub.status.idle": "2023-04-01T06:04:28.925263Z",
     "shell.execute_reply": "2023-04-01T06:04:28.924005Z",
     "shell.execute_reply.started": "2023-04-01T06:04:27.205470Z"
    },
    "id": "AAanAc0xUl2u"
   },
   "outputs": [],
   "source": [
    "# load the dataset from the drive into a pandas dataframe\n",
    "data = pd.read_csv('/content/drive/MyDrive/malicious_dataset.csv')\n",
    "data2=data.copy() # saves the data on another cell"
   ]
  },
  {
   "cell_type": "code",
   "execution_count": 5,
   "metadata": {
    "execution": {
     "iopub.execute_input": "2023-04-01T06:04:28.927315Z",
     "iopub.status.busy": "2023-04-01T06:04:28.926962Z",
     "iopub.status.idle": "2023-04-01T06:04:29.209167Z",
     "shell.execute_reply": "2023-04-01T06:04:29.208035Z",
     "shell.execute_reply.started": "2023-04-01T06:04:28.927285Z"
    },
    "id": "IlRilO94Ul2u"
   },
   "outputs": [],
   "source": [
    "# clean the dataset \n",
    "indexNames = data2[ data2['type'] == 'defacement' ].index\n",
    "\n",
    "data2.drop(indexNames , inplace=True) # drop the malware and defacement urls\n",
    "\n",
    "# deleting the malwares\n",
    "indexNames = data2[ data2['type'] == 'malware' ].index\n",
    "# Delete these row indexes from dataFrame\n",
    "data2.drop(indexNames , inplace=True)"
   ]
  },
  {
   "cell_type": "markdown",
   "metadata": {
    "id": "ppomNT3JUl2v"
   },
   "source": [
    "## Feature extraction\n",
    "This stage involves transforming raw text data into numerical feature vectors that can be used as input. The goal of this is to capture the important information in the text data and represent it in a way that can be easily processed by machine learning algorithms. with respect to the proposed research, it generates contextualized embeddings of the URL text, which would then be used as input to a model."
   ]
  },
  {
   "cell_type": "code",
   "execution_count": 6,
   "metadata": {
    "colab": {
     "base_uri": "https://localhost:8080/",
     "height": 423
    },
    "id": "_baWeeTtUl2v",
    "outputId": "07e269b9-39a2-4e07-93fb-3f5cc6d1ba37"
   },
   "outputs": [
    {
     "data": {
      "text/html": [
       "\n",
       "  <div id=\"df-e3b4b7d0-0eea-444f-b140-ec8929e5d5d9\">\n",
       "    <div class=\"colab-df-container\">\n",
       "      <div>\n",
       "<style scoped>\n",
       "    .dataframe tbody tr th:only-of-type {\n",
       "        vertical-align: middle;\n",
       "    }\n",
       "\n",
       "    .dataframe tbody tr th {\n",
       "        vertical-align: top;\n",
       "    }\n",
       "\n",
       "    .dataframe thead th {\n",
       "        text-align: right;\n",
       "    }\n",
       "</style>\n",
       "<table border=\"1\" class=\"dataframe\">\n",
       "  <thead>\n",
       "    <tr style=\"text-align: right;\">\n",
       "      <th></th>\n",
       "      <th>url</th>\n",
       "      <th>type</th>\n",
       "    </tr>\n",
       "  </thead>\n",
       "  <tbody>\n",
       "    <tr>\n",
       "      <th>0</th>\n",
       "      <td>br-icloud.com.br</td>\n",
       "      <td>phishing</td>\n",
       "    </tr>\n",
       "    <tr>\n",
       "      <th>1</th>\n",
       "      <td>mp3raid.com/music/krizz_kaliko.html</td>\n",
       "      <td>benign</td>\n",
       "    </tr>\n",
       "    <tr>\n",
       "      <th>2</th>\n",
       "      <td>bopsecrets.org/rexroth/cr/1.htm</td>\n",
       "      <td>benign</td>\n",
       "    </tr>\n",
       "    <tr>\n",
       "      <th>5</th>\n",
       "      <td>http://buzzfil.net/m/show-art/ils-etaient-loin...</td>\n",
       "      <td>benign</td>\n",
       "    </tr>\n",
       "    <tr>\n",
       "      <th>6</th>\n",
       "      <td>espn.go.com/nba/player/_/id/3457/brandon-rush</td>\n",
       "      <td>benign</td>\n",
       "    </tr>\n",
       "    <tr>\n",
       "      <th>...</th>\n",
       "      <td>...</td>\n",
       "      <td>...</td>\n",
       "    </tr>\n",
       "    <tr>\n",
       "      <th>651186</th>\n",
       "      <td>xbox360.ign.com/objects/850/850402.html</td>\n",
       "      <td>phishing</td>\n",
       "    </tr>\n",
       "    <tr>\n",
       "      <th>651187</th>\n",
       "      <td>games.teamxbox.com/xbox-360/1860/Dead-Space/</td>\n",
       "      <td>phishing</td>\n",
       "    </tr>\n",
       "    <tr>\n",
       "      <th>651188</th>\n",
       "      <td>www.gamespot.com/xbox360/action/deadspace/</td>\n",
       "      <td>phishing</td>\n",
       "    </tr>\n",
       "    <tr>\n",
       "      <th>651189</th>\n",
       "      <td>en.wikipedia.org/wiki/Dead_Space_(video_game)</td>\n",
       "      <td>phishing</td>\n",
       "    </tr>\n",
       "    <tr>\n",
       "      <th>651190</th>\n",
       "      <td>www.angelfire.com/goth/devilmaycrytonite/</td>\n",
       "      <td>phishing</td>\n",
       "    </tr>\n",
       "  </tbody>\n",
       "</table>\n",
       "<p>522214 rows × 2 columns</p>\n",
       "</div>\n",
       "      <button class=\"colab-df-convert\" onclick=\"convertToInteractive('df-e3b4b7d0-0eea-444f-b140-ec8929e5d5d9')\"\n",
       "              title=\"Convert this dataframe to an interactive table.\"\n",
       "              style=\"display:none;\">\n",
       "        \n",
       "  <svg xmlns=\"http://www.w3.org/2000/svg\" height=\"24px\"viewBox=\"0 0 24 24\"\n",
       "       width=\"24px\">\n",
       "    <path d=\"M0 0h24v24H0V0z\" fill=\"none\"/>\n",
       "    <path d=\"M18.56 5.44l.94 2.06.94-2.06 2.06-.94-2.06-.94-.94-2.06-.94 2.06-2.06.94zm-11 1L8.5 8.5l.94-2.06 2.06-.94-2.06-.94L8.5 2.5l-.94 2.06-2.06.94zm10 10l.94 2.06.94-2.06 2.06-.94-2.06-.94-.94-2.06-.94 2.06-2.06.94z\"/><path d=\"M17.41 7.96l-1.37-1.37c-.4-.4-.92-.59-1.43-.59-.52 0-1.04.2-1.43.59L10.3 9.45l-7.72 7.72c-.78.78-.78 2.05 0 2.83L4 21.41c.39.39.9.59 1.41.59.51 0 1.02-.2 1.41-.59l7.78-7.78 2.81-2.81c.8-.78.8-2.07 0-2.86zM5.41 20L4 18.59l7.72-7.72 1.47 1.35L5.41 20z\"/>\n",
       "  </svg>\n",
       "      </button>\n",
       "      \n",
       "  <style>\n",
       "    .colab-df-container {\n",
       "      display:flex;\n",
       "      flex-wrap:wrap;\n",
       "      gap: 12px;\n",
       "    }\n",
       "\n",
       "    .colab-df-convert {\n",
       "      background-color: #E8F0FE;\n",
       "      border: none;\n",
       "      border-radius: 50%;\n",
       "      cursor: pointer;\n",
       "      display: none;\n",
       "      fill: #1967D2;\n",
       "      height: 32px;\n",
       "      padding: 0 0 0 0;\n",
       "      width: 32px;\n",
       "    }\n",
       "\n",
       "    .colab-df-convert:hover {\n",
       "      background-color: #E2EBFA;\n",
       "      box-shadow: 0px 1px 2px rgba(60, 64, 67, 0.3), 0px 1px 3px 1px rgba(60, 64, 67, 0.15);\n",
       "      fill: #174EA6;\n",
       "    }\n",
       "\n",
       "    [theme=dark] .colab-df-convert {\n",
       "      background-color: #3B4455;\n",
       "      fill: #D2E3FC;\n",
       "    }\n",
       "\n",
       "    [theme=dark] .colab-df-convert:hover {\n",
       "      background-color: #434B5C;\n",
       "      box-shadow: 0px 1px 3px 1px rgba(0, 0, 0, 0.15);\n",
       "      filter: drop-shadow(0px 1px 2px rgba(0, 0, 0, 0.3));\n",
       "      fill: #FFFFFF;\n",
       "    }\n",
       "  </style>\n",
       "\n",
       "      <script>\n",
       "        const buttonEl =\n",
       "          document.querySelector('#df-e3b4b7d0-0eea-444f-b140-ec8929e5d5d9 button.colab-df-convert');\n",
       "        buttonEl.style.display =\n",
       "          google.colab.kernel.accessAllowed ? 'block' : 'none';\n",
       "\n",
       "        async function convertToInteractive(key) {\n",
       "          const element = document.querySelector('#df-e3b4b7d0-0eea-444f-b140-ec8929e5d5d9');\n",
       "          const dataTable =\n",
       "            await google.colab.kernel.invokeFunction('convertToInteractive',\n",
       "                                                     [key], {});\n",
       "          if (!dataTable) return;\n",
       "\n",
       "          const docLinkHtml = 'Like what you see? Visit the ' +\n",
       "            '<a target=\"_blank\" href=https://colab.research.google.com/notebooks/data_table.ipynb>data table notebook</a>'\n",
       "            + ' to learn more about interactive tables.';\n",
       "          element.innerHTML = '';\n",
       "          dataTable['output_type'] = 'display_data';\n",
       "          await google.colab.output.renderOutput(dataTable, element);\n",
       "          const docLink = document.createElement('div');\n",
       "          docLink.innerHTML = docLinkHtml;\n",
       "          element.appendChild(docLink);\n",
       "        }\n",
       "      </script>\n",
       "    </div>\n",
       "  </div>\n",
       "  "
      ],
      "text/plain": [
       "                                                      url      type\n",
       "0                                        br-icloud.com.br  phishing\n",
       "1                     mp3raid.com/music/krizz_kaliko.html    benign\n",
       "2                         bopsecrets.org/rexroth/cr/1.htm    benign\n",
       "5       http://buzzfil.net/m/show-art/ils-etaient-loin...    benign\n",
       "6           espn.go.com/nba/player/_/id/3457/brandon-rush    benign\n",
       "...                                                   ...       ...\n",
       "651186            xbox360.ign.com/objects/850/850402.html  phishing\n",
       "651187       games.teamxbox.com/xbox-360/1860/Dead-Space/  phishing\n",
       "651188         www.gamespot.com/xbox360/action/deadspace/  phishing\n",
       "651189      en.wikipedia.org/wiki/Dead_Space_(video_game)  phishing\n",
       "651190          www.angelfire.com/goth/devilmaycrytonite/  phishing\n",
       "\n",
       "[522214 rows x 2 columns]"
      ]
     },
     "execution_count": 6,
     "metadata": {},
     "output_type": "execute_result"
    }
   ],
   "source": [
    "data2 # Contains benign and phishing URLs"
   ]
  },
  {
   "cell_type": "code",
   "execution_count": 7,
   "metadata": {
    "colab": {
     "base_uri": "https://localhost:8080/",
     "height": 206
    },
    "execution": {
     "iopub.execute_input": "2023-04-01T06:04:29.210837Z",
     "iopub.status.busy": "2023-04-01T06:04:29.210417Z",
     "iopub.status.idle": "2023-04-01T06:04:30.367042Z",
     "shell.execute_reply": "2023-04-01T06:04:30.365968Z",
     "shell.execute_reply.started": "2023-04-01T06:04:29.210800Z"
    },
    "id": "Rszmqn-KUl2v",
    "outputId": "13133e33-4732-4043-c19d-3efbdc1f9c85",
    "scrolled": false
   },
   "outputs": [
    {
     "data": {
      "text/html": [
       "\n",
       "  <div id=\"df-340cb99d-1c3c-49d9-965f-04ec1dddc7a8\">\n",
       "    <div class=\"colab-df-container\">\n",
       "      <div>\n",
       "<style scoped>\n",
       "    .dataframe tbody tr th:only-of-type {\n",
       "        vertical-align: middle;\n",
       "    }\n",
       "\n",
       "    .dataframe tbody tr th {\n",
       "        vertical-align: top;\n",
       "    }\n",
       "\n",
       "    .dataframe thead th {\n",
       "        text-align: right;\n",
       "    }\n",
       "</style>\n",
       "<table border=\"1\" class=\"dataframe\">\n",
       "  <thead>\n",
       "    <tr style=\"text-align: right;\">\n",
       "      <th></th>\n",
       "      <th>url</th>\n",
       "      <th>type</th>\n",
       "      <th>Category</th>\n",
       "    </tr>\n",
       "  </thead>\n",
       "  <tbody>\n",
       "    <tr>\n",
       "      <th>0</th>\n",
       "      <td>br-icloud.com.br</td>\n",
       "      <td>phishing</td>\n",
       "      <td>1</td>\n",
       "    </tr>\n",
       "    <tr>\n",
       "      <th>1</th>\n",
       "      <td>mp3raid.com/music/krizz_kaliko.html</td>\n",
       "      <td>benign</td>\n",
       "      <td>0</td>\n",
       "    </tr>\n",
       "    <tr>\n",
       "      <th>2</th>\n",
       "      <td>bopsecrets.org/rexroth/cr/1.htm</td>\n",
       "      <td>benign</td>\n",
       "      <td>0</td>\n",
       "    </tr>\n",
       "    <tr>\n",
       "      <th>5</th>\n",
       "      <td>http://buzzfil.net/m/show-art/ils-etaient-loin...</td>\n",
       "      <td>benign</td>\n",
       "      <td>0</td>\n",
       "    </tr>\n",
       "    <tr>\n",
       "      <th>6</th>\n",
       "      <td>espn.go.com/nba/player/_/id/3457/brandon-rush</td>\n",
       "      <td>benign</td>\n",
       "      <td>0</td>\n",
       "    </tr>\n",
       "  </tbody>\n",
       "</table>\n",
       "</div>\n",
       "      <button class=\"colab-df-convert\" onclick=\"convertToInteractive('df-340cb99d-1c3c-49d9-965f-04ec1dddc7a8')\"\n",
       "              title=\"Convert this dataframe to an interactive table.\"\n",
       "              style=\"display:none;\">\n",
       "        \n",
       "  <svg xmlns=\"http://www.w3.org/2000/svg\" height=\"24px\"viewBox=\"0 0 24 24\"\n",
       "       width=\"24px\">\n",
       "    <path d=\"M0 0h24v24H0V0z\" fill=\"none\"/>\n",
       "    <path d=\"M18.56 5.44l.94 2.06.94-2.06 2.06-.94-2.06-.94-.94-2.06-.94 2.06-2.06.94zm-11 1L8.5 8.5l.94-2.06 2.06-.94-2.06-.94L8.5 2.5l-.94 2.06-2.06.94zm10 10l.94 2.06.94-2.06 2.06-.94-2.06-.94-.94-2.06-.94 2.06-2.06.94z\"/><path d=\"M17.41 7.96l-1.37-1.37c-.4-.4-.92-.59-1.43-.59-.52 0-1.04.2-1.43.59L10.3 9.45l-7.72 7.72c-.78.78-.78 2.05 0 2.83L4 21.41c.39.39.9.59 1.41.59.51 0 1.02-.2 1.41-.59l7.78-7.78 2.81-2.81c.8-.78.8-2.07 0-2.86zM5.41 20L4 18.59l7.72-7.72 1.47 1.35L5.41 20z\"/>\n",
       "  </svg>\n",
       "      </button>\n",
       "      \n",
       "  <style>\n",
       "    .colab-df-container {\n",
       "      display:flex;\n",
       "      flex-wrap:wrap;\n",
       "      gap: 12px;\n",
       "    }\n",
       "\n",
       "    .colab-df-convert {\n",
       "      background-color: #E8F0FE;\n",
       "      border: none;\n",
       "      border-radius: 50%;\n",
       "      cursor: pointer;\n",
       "      display: none;\n",
       "      fill: #1967D2;\n",
       "      height: 32px;\n",
       "      padding: 0 0 0 0;\n",
       "      width: 32px;\n",
       "    }\n",
       "\n",
       "    .colab-df-convert:hover {\n",
       "      background-color: #E2EBFA;\n",
       "      box-shadow: 0px 1px 2px rgba(60, 64, 67, 0.3), 0px 1px 3px 1px rgba(60, 64, 67, 0.15);\n",
       "      fill: #174EA6;\n",
       "    }\n",
       "\n",
       "    [theme=dark] .colab-df-convert {\n",
       "      background-color: #3B4455;\n",
       "      fill: #D2E3FC;\n",
       "    }\n",
       "\n",
       "    [theme=dark] .colab-df-convert:hover {\n",
       "      background-color: #434B5C;\n",
       "      box-shadow: 0px 1px 3px 1px rgba(0, 0, 0, 0.15);\n",
       "      filter: drop-shadow(0px 1px 2px rgba(0, 0, 0, 0.3));\n",
       "      fill: #FFFFFF;\n",
       "    }\n",
       "  </style>\n",
       "\n",
       "      <script>\n",
       "        const buttonEl =\n",
       "          document.querySelector('#df-340cb99d-1c3c-49d9-965f-04ec1dddc7a8 button.colab-df-convert');\n",
       "        buttonEl.style.display =\n",
       "          google.colab.kernel.accessAllowed ? 'block' : 'none';\n",
       "\n",
       "        async function convertToInteractive(key) {\n",
       "          const element = document.querySelector('#df-340cb99d-1c3c-49d9-965f-04ec1dddc7a8');\n",
       "          const dataTable =\n",
       "            await google.colab.kernel.invokeFunction('convertToInteractive',\n",
       "                                                     [key], {});\n",
       "          if (!dataTable) return;\n",
       "\n",
       "          const docLinkHtml = 'Like what you see? Visit the ' +\n",
       "            '<a target=\"_blank\" href=https://colab.research.google.com/notebooks/data_table.ipynb>data table notebook</a>'\n",
       "            + ' to learn more about interactive tables.';\n",
       "          element.innerHTML = '';\n",
       "          dataTable['output_type'] = 'display_data';\n",
       "          await google.colab.output.renderOutput(dataTable, element);\n",
       "          const docLink = document.createElement('div');\n",
       "          docLink.innerHTML = docLinkHtml;\n",
       "          element.appendChild(docLink);\n",
       "        }\n",
       "      </script>\n",
       "    </div>\n",
       "  </div>\n",
       "  "
      ],
      "text/plain": [
       "                                                 url      type  Category\n",
       "0                                   br-icloud.com.br  phishing         1\n",
       "1                mp3raid.com/music/krizz_kaliko.html    benign         0\n",
       "2                    bopsecrets.org/rexroth/cr/1.htm    benign         0\n",
       "5  http://buzzfil.net/m/show-art/ils-etaient-loin...    benign         0\n",
       "6      espn.go.com/nba/player/_/id/3457/brandon-rush    benign         0"
      ]
     },
     "execution_count": 7,
     "metadata": {},
     "output_type": "execute_result"
    }
   ],
   "source": [
    "# Adds a new column to the data (as numerical value)\n",
    "data2['url'] = data2['url'].replace('www.', '', regex=True) # removes the 'www.' in all entries and replaces with an empty space\n",
    "rem = {\"Category\": {\"benign\": 0,  \"phishing\":1}} # represents benign and phishing URLs as 0 and 1 respectively\n",
    "data2['Category'] = data2['type']\n",
    "data2 = data2.replace(rem)\n",
    "data2.head()"
   ]
  },
  {
   "cell_type": "code",
   "execution_count": 112,
   "metadata": {
    "colab": {
     "base_uri": "https://localhost:8080/",
     "height": 714
    },
    "id": "lZXD_omVoz8Y",
    "outputId": "9ada16d2-9eb2-4928-8402-7a937a755144"
   },
   "outputs": [
    {
     "data": {
      "text/plain": [
       "Text(0, 0.5, 'Number of URL')"
      ]
     },
     "execution_count": 112,
     "metadata": {},
     "output_type": "execute_result"
    },
    {
     "data": {
      "image/png": "[encoded data removed]",
      "text/plain": [
       "<Figure size 500x800 with 1 Axes>"
      ]
     },
     "metadata": {},
     "output_type": "display_data"
    }
   ],
   "source": [
    "count = data.type.value_counts() # the types and count of URLs in the dataset\n",
    "count\n",
    "#  a bar plot with the different types of URLs..\n",
    "# ...on the x-axis and the number of URLs of each type on the y-axis.\n",
    "sns.barplot(x=count.index, y=count)\n",
    "plt.xlabel('Types')\n",
    "plt.ylabel('Number of URL')"
   ]
  },
  {
   "cell_type": "code",
   "execution_count": 8,
   "metadata": {
    "colab": {
     "base_uri": "https://localhost:8080/"
    },
    "id": "Ucgz6SeWUl2w",
    "outputId": "0247404d-258b-4133-daaf-9600f5e8941c"
   },
   "outputs": [
    {
     "data": {
      "text/plain": [
       "<bound method NDFrame.describe of                                                       url      type  Category\n",
       "0                                        br-icloud.com.br  phishing         1\n",
       "1                     mp3raid.com/music/krizz_kaliko.html    benign         0\n",
       "2                         bopsecrets.org/rexroth/cr/1.htm    benign         0\n",
       "5       http://buzzfil.net/m/show-art/ils-etaient-loin...    benign         0\n",
       "6           espn.go.com/nba/player/_/id/3457/brandon-rush    benign         0\n",
       "...                                                   ...       ...       ...\n",
       "651186            xbox360.ign.com/objects/850/850402.html  phishing         1\n",
       "651187       games.teamxbox.com/xbox-360/1860/Dead-Space/  phishing         1\n",
       "651188             gamespot.com/xbox360/action/deadspace/  phishing         1\n",
       "651189      en.wikipedia.org/wiki/Dead_Space_(video_game)  phishing         1\n",
       "651190              angelfire.com/goth/devilmaycrytonite/  phishing         1\n",
       "\n",
       "[522214 rows x 3 columns]>"
      ]
     },
     "execution_count": 8,
     "metadata": {},
     "output_type": "execute_result"
    }
   ],
   "source": [
    "data2.describe #information about the data"
   ]
  },
  {
   "cell_type": "code",
   "execution_count": 9,
   "metadata": {
    "execution": {
     "iopub.execute_input": "2023-04-01T06:09:37.695980Z",
     "iopub.status.busy": "2023-04-01T06:09:37.695390Z",
     "iopub.status.idle": "2023-04-01T06:09:37.983494Z",
     "shell.execute_reply": "2023-04-01T06:09:37.982344Z",
     "shell.execute_reply.started": "2023-04-01T06:09:37.695942Z"
    },
    "id": "heDKWhgBUl2w"
   },
   "outputs": [],
   "source": [
    "# adds a new column to the data called url_len. It calculates the \n",
    "#...length of each URL in the url column by applying a lambda function\n",
    "data2['url_len'] = data2['url'].apply(lambda x: len(str(x)))"
   ]
  },
  {
   "cell_type": "code",
   "execution_count": 10,
   "metadata": {
    "execution": {
     "iopub.execute_input": "2023-04-01T06:09:38.972321Z",
     "iopub.status.busy": "2023-04-01T06:09:38.971879Z",
     "iopub.status.idle": "2023-04-01T06:09:49.008749Z",
     "shell.execute_reply": "2023-04-01T06:09:49.007680Z",
     "shell.execute_reply.started": "2023-04-01T06:09:38.972282Z"
    },
    "id": "m4Tg76eEUl2w"
   },
   "outputs": [],
   "source": [
    "def process_tld(url):\n",
    "    try:\n",
    "# Extract the top level domain (TLD) \n",
    "        res = get_tld(url, as_object = True, fail_silently=False,fix_protocol=True)\n",
    "        pri_domain= res.parsed_url.netloc\n",
    "    except :\n",
    "        pri_domain= None\n",
    "    return pri_domain\n",
    "# adds a new column to the data called 'domain' and takes in the extracted top-level domains\n",
    "data2['domain'] = data2['url'].apply(lambda i: process_tld(i)) "
   ]
  },
  {
   "cell_type": "code",
   "execution_count": 11,
   "metadata": {
    "execution": {
     "iopub.execute_input": "2023-04-01T06:09:49.010868Z",
     "iopub.status.busy": "2023-04-01T06:09:49.010448Z",
     "iopub.status.idle": "2023-04-01T06:09:52.876724Z",
     "shell.execute_reply": "2023-04-01T06:09:52.875615Z",
     "shell.execute_reply.started": "2023-04-01T06:09:49.010833Z"
    },
    "id": "odAbOQSnUl2x"
   },
   "outputs": [],
   "source": [
    "# counts the number of times the character 'a' (which takes on each value in \n",
    "#...feature during each iteration of the loop) appears in each URL\n",
    "feature = ['@','?','-','=','.','#','%','+','$','!','*',',','//']\n",
    "for a in feature:\n",
    "    data2[a] = data2['url'].apply(lambda i: i.count(a))"
   ]
  },
  {
   "cell_type": "code",
   "execution_count": 12,
   "metadata": {
    "execution": {
     "iopub.execute_input": "2023-04-01T06:09:52.878802Z",
     "iopub.status.busy": "2023-04-01T06:09:52.878410Z",
     "iopub.status.idle": "2023-04-01T06:10:00.215419Z",
     "shell.execute_reply": "2023-04-01T06:10:00.213960Z",
     "shell.execute_reply.started": "2023-04-01T06:09:52.878768Z"
    },
    "id": "MirD-Wu5Ul2x"
   },
   "outputs": [],
   "source": [
    "# this method takes a URL as input and returns a binary value (1 or 0)\n",
    "#...indicating whether the URL contains an abnormal pattern.\n",
    "def abnormal_url(url):\n",
    "    hostname = urlparse(url).hostname\n",
    "   ## print(hostname)\n",
    "    hostname = str(hostname)\n",
    "   # print(hostname)\n",
    "    match = re.search(hostname, url)\n",
    "    if match:\n",
    "        # print match.group()\n",
    "        return 1\n",
    "    else:\n",
    "        # print 'No matching pattern found'\n",
    "        return 0\n",
    "\n",
    "data2['abnormal_url'] = data2['url'].apply(lambda i: abnormal_url(i))"
   ]
  },
  {
   "cell_type": "code",
   "execution_count": 13,
   "metadata": {
    "execution": {
     "iopub.execute_input": "2023-04-01T06:10:33.683177Z",
     "iopub.status.busy": "2023-04-01T06:10:33.682802Z",
     "iopub.status.idle": "2023-04-01T06:10:37.660037Z",
     "shell.execute_reply": "2023-04-01T06:10:37.659080Z",
     "shell.execute_reply.started": "2023-04-01T06:10:33.683145Z"
    },
    "id": "iY3pkNjJUl2x"
   },
   "outputs": [],
   "source": [
    "def httpSecure(url):\n",
    "    htp = urlparse(url).scheme #It supports the following URL schemes: file , ftp , gopher , hdl , \n",
    "                               #http , https ... from urllib.parse\n",
    "    match = str(htp)\n",
    "    if match=='https':\n",
    "        # print match.group()\n",
    "        return 1\n",
    "    else:\n",
    "        # print 'No matching pattern found'\n",
    "        return 0\n",
    "data2['https'] = data2['url'].apply(lambda i: httpSecure(i))"
   ]
  },
  {
   "cell_type": "code",
   "execution_count": 14,
   "metadata": {
    "colab": {
     "base_uri": "https://localhost:8080/",
     "height": 449
    },
    "execution": {
     "iopub.execute_input": "2023-04-01T06:10:37.661642Z",
     "iopub.status.busy": "2023-04-01T06:10:37.661261Z",
     "iopub.status.idle": "2023-04-01T06:10:37.870940Z",
     "shell.execute_reply": "2023-04-01T06:10:37.869896Z",
     "shell.execute_reply.started": "2023-04-01T06:10:37.661608Z"
    },
    "id": "JnHVAkU2Ul2y",
    "outputId": "46a35188-cdd6-48d1-da90-43b93259545d"
   },
   "outputs": [
    {
     "data": {
      "image/png": "[encoded data removed]",
      "text/plain": [
       "<Figure size 640x480 with 1 Axes>"
      ]
     },
     "metadata": {},
     "output_type": "display_data"
    }
   ],
   "source": [
    "sns.countplot(x='https', data=data2);"
   ]
  },
  {
   "cell_type": "markdown",
   "metadata": {
    "id": "-Wj23m2hUl2y"
   },
   "source": [
    "well, unbalanced dataset ! \n"
   ]
  },
  {
   "cell_type": "code",
   "execution_count": 15,
   "metadata": {
    "execution": {
     "iopub.execute_input": "2023-04-01T06:10:37.873613Z",
     "iopub.status.busy": "2023-04-01T06:10:37.873260Z",
     "iopub.status.idle": "2023-04-01T06:10:40.949828Z",
     "shell.execute_reply": "2023-04-01T06:10:40.949020Z",
     "shell.execute_reply.started": "2023-04-01T06:10:37.873581Z"
    },
    "id": "22MCwgapUl2y"
   },
   "outputs": [],
   "source": [
    "def digit_count(url):\n",
    "    digits = 0\n",
    "    for i in url:\n",
    "        if i.isnumeric():\n",
    "            digits = digits + 1\n",
    "    return digits\n",
    "data2['digits']= data2['url'].apply(lambda i: digit_count(i))"
   ]
  },
  {
   "cell_type": "code",
   "execution_count": 16,
   "metadata": {
    "execution": {
     "iopub.execute_input": "2023-04-01T06:10:40.952421Z",
     "iopub.status.busy": "2023-04-01T06:10:40.951230Z",
     "iopub.status.idle": "2023-04-01T06:10:40.956677Z",
     "shell.execute_reply": "2023-04-01T06:10:40.955910Z",
     "shell.execute_reply.started": "2023-04-01T06:10:40.952381Z"
    },
    "id": "DTpy4668Ul2y"
   },
   "outputs": [],
   "source": [
    "def letter_count(url):\n",
    "    letters = 0\n",
    "    for i in url:\n",
    "        if i.isalpha():\n",
    "            letters = letters + 1\n",
    "    return letters\n"
   ]
  },
  {
   "cell_type": "code",
   "execution_count": 17,
   "metadata": {
    "execution": {
     "iopub.execute_input": "2023-04-01T06:10:40.957893Z",
     "iopub.status.busy": "2023-04-01T06:10:40.957518Z",
     "iopub.status.idle": "2023-04-01T06:10:44.806735Z",
     "shell.execute_reply": "2023-04-01T06:10:44.805761Z",
     "shell.execute_reply.started": "2023-04-01T06:10:40.957862Z"
    },
    "id": "Y3QMKqz9Ul2y"
   },
   "outputs": [],
   "source": [
    "data2['letters']= data2['url'].apply(lambda i: letter_count(i))"
   ]
  },
  {
   "cell_type": "code",
   "execution_count": 18,
   "metadata": {
    "execution": {
     "iopub.execute_input": "2023-04-01T06:10:44.808310Z",
     "iopub.status.busy": "2023-04-01T06:10:44.807962Z",
     "iopub.status.idle": "2023-04-01T06:10:50.418144Z",
     "shell.execute_reply": "2023-04-01T06:10:50.416777Z",
     "shell.execute_reply.started": "2023-04-01T06:10:44.808279Z"
    },
    "id": "l7wk1PEmUl2z"
   },
   "outputs": [],
   "source": [
    "def Shortining_Service(url):\n",
    "    match = re.search('bit\\.ly|goo\\.gl|shorte\\.st|go2l\\.ink|x\\.co|ow\\.ly|t\\.co|tinyurl|tr\\.im|is\\.gd|cli\\.gs|'\n",
    "                      'yfrog\\.com|migre\\.me|ff\\.im|tiny\\.cc|url4\\.eu|twit\\.ac|su\\.pr|twurl\\.nl|snipurl\\.com|'\n",
    "                      'short\\.to|BudURL\\.com|ping\\.fm|post\\.ly|Just\\.as|bkite\\.com|snipr\\.com|fic\\.kr|loopt\\.us|'\n",
    "                      'doiop\\.com|short\\.ie|kl\\.am|wp\\.me|rubyurl\\.com|om\\.ly|to\\.ly|bit\\.do|t\\.co|lnkd\\.in|'\n",
    "                      'db\\.tt|qr\\.ae|adf\\.ly|goo\\.gl|bitly\\.com|cur\\.lv|tinyurl\\.com|ow\\.ly|bit\\.ly|ity\\.im|'\n",
    "                      'q\\.gs|is\\.gd|po\\.st|bc\\.vc|twitthis\\.com|u\\.to|j\\.mp|buzurl\\.com|cutt\\.us|u\\.bb|yourls\\.org|'\n",
    "                      'x\\.co|prettylinkpro\\.com|scrnch\\.me|filoops\\.info|vzturl\\.com|qr\\.net|1url\\.com|tweez\\.me|v\\.gd|'\n",
    "                      'tr\\.im|link\\.zip\\.net',\n",
    "                      url)\n",
    "    if match:\n",
    "        return 1\n",
    "    else:\n",
    "        return 0\n",
    "    \n",
    "data2['Shortining_Service'] = data2['url'].apply(lambda x: Shortining_Service(x))"
   ]
  },
  {
   "cell_type": "code",
   "execution_count": 19,
   "metadata": {
    "execution": {
     "iopub.execute_input": "2023-04-01T06:10:50.420091Z",
     "iopub.status.busy": "2023-04-01T06:10:50.419573Z",
     "iopub.status.idle": "2023-04-01T06:11:06.147066Z",
     "shell.execute_reply": "2023-04-01T06:11:06.145946Z",
     "shell.execute_reply.started": "2023-04-01T06:10:50.420039Z"
    },
    "id": "wTamftaNUl2z"
   },
   "outputs": [],
   "source": [
    "def having_ip_address(url):\n",
    "    match = re.search(\n",
    "        '(([01]?\\\\d\\\\d?|2[0-4]\\\\d|25[0-5])\\\\.([01]?\\\\d\\\\d?|2[0-4]\\\\d|25[0-5])\\\\.([01]?\\\\d\\\\d?|2[0-4]\\\\d|25[0-5])\\\\.'\n",
    "        '([01]?\\\\d\\\\d?|2[0-4]\\\\d|25[0-5])\\\\/)|'  # IPv4\n",
    "        '(([01]?\\\\d\\\\d?|2[0-4]\\\\d|25[0-5])\\\\.([01]?\\\\d\\\\d?|2[0-4]\\\\d|25[0-5])\\\\.([01]?\\\\d\\\\d?|2[0-4]\\\\d|25[0-5])\\\\.'\n",
    "        '([01]?\\\\d\\\\d?|2[0-4]\\\\d|25[0-5])\\\\/)|'  # IPv4 with port\n",
    "        '((0x[0-9a-fA-F]{1,2})\\\\.(0x[0-9a-fA-F]{1,2})\\\\.(0x[0-9a-fA-F]{1,2})\\\\.(0x[0-9a-fA-F]{1,2})\\\\/)' # IPv4 in hexadecimal\n",
    "        '(?:[a-fA-F0-9]{1,4}:){7}[a-fA-F0-9]{1,4}|'\n",
    "        '([0-9]+(?:\\.[0-9]+){3}:[0-9]+)|'\n",
    "        '((?:(?:\\d|[01]?\\d\\d|2[0-4]\\d|25[0-5])\\.){3}(?:25[0-5]|2[0-4]\\d|[01]?\\d\\d|\\d)(?:\\/\\d{1,2})?)', url)  # Ipv6\n",
    "    if match:\n",
    "        return 1\n",
    "    else:\n",
    "        return 0\n",
    "data2['having_ip_address'] = data2['url'].apply(lambda i: having_ip_address(i))"
   ]
  },
  {
   "cell_type": "markdown",
   "metadata": {
    "id": "_D_S_-3GmfvA"
   },
   "source": [
    "## Model development and Training"
   ]
  },
  {
   "cell_type": "code",
   "execution_count": 12,
   "metadata": {
    "execution": {
     "iopub.execute_input": "2023-04-01T06:11:23.848410Z",
     "iopub.status.busy": "2023-04-01T06:11:23.847975Z",
     "iopub.status.idle": "2023-04-01T06:11:23.885308Z",
     "shell.execute_reply": "2023-04-01T06:11:23.884326Z",
     "shell.execute_reply.started": "2023-04-01T06:11:23.848374Z"
    },
    "id": "3JvJEsmMUl20"
   },
   "outputs": [
    {
     "ename": "NameError",
     "evalue": "name 'data2' is not defined",
     "output_type": "error",
     "traceback": [
      "\u001b[1;31m---------------------------------------------------------------------------\u001b[0m",
      "\u001b[1;31mNameError\u001b[0m                                 Traceback (most recent call last)",
      "\u001b[1;32m~\\AppData\\Local\\Temp\\ipykernel_13452\\738659185.py\u001b[0m in \u001b[0;36m<module>\u001b[1;34m\u001b[0m\n\u001b[1;32m----> 1\u001b[1;33m \u001b[0mX\u001b[0m \u001b[1;33m=\u001b[0m \u001b[0mdata2\u001b[0m\u001b[1;33m.\u001b[0m\u001b[0mdrop\u001b[0m\u001b[1;33m(\u001b[0m\u001b[1;33m[\u001b[0m\u001b[1;34m'url'\u001b[0m\u001b[1;33m,\u001b[0m\u001b[1;34m'type'\u001b[0m\u001b[1;33m,\u001b[0m\u001b[1;34m'Category'\u001b[0m\u001b[1;33m,\u001b[0m\u001b[1;34m'domain'\u001b[0m\u001b[1;33m]\u001b[0m\u001b[1;33m,\u001b[0m\u001b[0maxis\u001b[0m\u001b[1;33m=\u001b[0m\u001b[1;36m1\u001b[0m\u001b[1;33m)\u001b[0m \u001b[1;31m# Independent variables\u001b[0m\u001b[1;33m\u001b[0m\u001b[1;33m\u001b[0m\u001b[0m\n\u001b[0m\u001b[0;32m      2\u001b[0m \u001b[0my\u001b[0m \u001b[1;33m=\u001b[0m \u001b[0mdata2\u001b[0m\u001b[1;33m[\u001b[0m\u001b[1;34m'Category'\u001b[0m\u001b[1;33m]\u001b[0m \u001b[1;31m# Dependent variable\u001b[0m\u001b[1;33m\u001b[0m\u001b[1;33m\u001b[0m\u001b[0m\n",
      "\u001b[1;31mNameError\u001b[0m: name 'data2' is not defined"
     ]
    }
   ],
   "source": [
    "X = data2.drop(['url','type','Category','domain'],axis=1) # Independent variables\n",
    "y = data2['Category'] # Dependent variable"
   ]
  },
  {
   "cell_type": "code",
   "execution_count": 98,
   "metadata": {
    "execution": {
     "iopub.execute_input": "2023-04-01T06:11:29.934063Z",
     "iopub.status.busy": "2023-04-01T06:11:29.933606Z",
     "iopub.status.idle": "2023-04-01T06:11:30.091369Z",
     "shell.execute_reply": "2023-04-01T06:11:30.090097Z",
     "shell.execute_reply.started": "2023-04-01T06:11:29.934026Z"
    },
    "id": "EaPasUgRUl20"
   },
   "outputs": [],
   "source": [
    "# Train-Test split\n",
    "X_train, X_test, y_train, y_test = train_test_split(X, y, test_size=0.2, random_state=2)"
   ]
  },
  {
   "cell_type": "markdown",
   "metadata": {
    "id": "n9ULMNCnm9yH"
   },
   "source": [
    "## LSTM model"
   ]
  },
  {
   "cell_type": "code",
   "execution_count": 25,
   "metadata": {
    "id": "pAQwpNAmUl20"
   },
   "outputs": [],
   "source": [
    "model = Sequential()\n",
    "model.add(Embedding(5000, 128, input_length=X.shape[1]))\n",
    "model.add(SpatialDropout1D(0.4))\n",
    "model.add(LSTM(256, dropout=0.2, recurrent_dropout=0.2))\n",
    "model.add(Dense(1, activation='sigmoid'))\n"
   ]
  },
  {
   "cell_type": "code",
   "execution_count": 54,
   "metadata": {
    "colab": {
     "base_uri": "https://localhost:8080/"
    },
    "id": "G8-vOceCUl20",
    "outputId": "3ac20431-41de-4c1c-f0b3-677159b16d6b"
   },
   "outputs": [
    {
     "name": "stdout",
     "output_type": "stream",
     "text": [
      "Epoch 1/10\n",
      "408/408 [==============================] - 690s 2s/step - loss: 0.2283 - accuracy: 0.9102 - val_loss: 0.2274 - val_accuracy: 0.9106\n",
      "Epoch 2/10\n",
      "408/408 [==============================] - 682s 2s/step - loss: 0.2267 - accuracy: 0.9113 - val_loss: 0.2267 - val_accuracy: 0.9110\n",
      "Epoch 3/10\n",
      "408/408 [==============================] - 676s 2s/step - loss: 0.2259 - accuracy: 0.9113 - val_loss: 0.2258 - val_accuracy: 0.9115\n",
      "Epoch 4/10\n",
      "408/408 [==============================] - 677s 2s/step - loss: 0.2249 - accuracy: 0.9119 - val_loss: 0.2264 - val_accuracy: 0.9110\n",
      "Epoch 5/10\n",
      "408/408 [==============================] - 688s 2s/step - loss: 0.2236 - accuracy: 0.9122 - val_loss: 0.2252 - val_accuracy: 0.9114\n",
      "Epoch 6/10\n",
      "408/408 [==============================] - 681s 2s/step - loss: 0.2228 - accuracy: 0.9125 - val_loss: 0.2243 - val_accuracy: 0.9120\n",
      "Epoch 7/10\n",
      "408/408 [==============================] - 669s 2s/step - loss: 0.2221 - accuracy: 0.9126 - val_loss: 0.2240 - val_accuracy: 0.9120\n",
      "Epoch 8/10\n",
      "408/408 [==============================] - 670s 2s/step - loss: 0.2214 - accuracy: 0.9132 - val_loss: 0.2238 - val_accuracy: 0.9124\n",
      "Epoch 9/10\n",
      "408/408 [==============================] - 670s 2s/step - loss: 0.2204 - accuracy: 0.9135 - val_loss: 0.2233 - val_accuracy: 0.9124\n",
      "Epoch 10/10\n",
      "408/408 [==============================] - 661s 2s/step - loss: 0.2199 - accuracy: 0.9134 - val_loss: 0.2239 - val_accuracy: 0.9123\n"
     ]
    }
   ],
   "source": [
    "model.compile(loss='binary_crossentropy', optimizer='adam', metrics=['accuracy'])\n",
    "model_history = model.fit(X_train, y_train, epochs=10, batch_size=1024, validation_data=(X_test, y_test))"
   ]
  },
  {
   "cell_type": "code",
   "execution_count": 46,
   "metadata": {
    "colab": {
     "base_uri": "https://localhost:8080/"
    },
    "id": "nykwYBtUaqWx",
    "outputId": "dbc6d9f8-b774-4e9b-d377-7fd2cc869230"
   },
   "outputs": [
    {
     "name": "stdout",
     "output_type": "stream",
     "text": [
      "3264/3264 [==============================] - 133s 41ms/step - loss: 0.2292 - accuracy: 0.9101\n",
      "[0.22923777997493744, 0.9101423621177673]\n"
     ]
    }
   ],
   "source": [
    "accuracy = model.evaluate(X_test, y_test)\n",
    "\n"
   ]
  },
  {
   "cell_type": "markdown",
   "metadata": {
    "id": "AltARwY1nK5Z"
   },
   "source": [
    "### Evaluation"
   ]
  },
  {
   "cell_type": "code",
   "execution_count": 56,
   "metadata": {
    "id": "EXjufg3Sn6X8"
   },
   "outputs": [],
   "source": [
    "def modelLoss(history,title):\n",
    "    fig = plt.figure(dpi=50, figsize = (20,15))\n",
    "    ax1 = fig.add_subplot(221)\n",
    "    \n",
    "    ax1.plot(history.history['loss'], label='train_loss')\n",
    "    ax1.plot(history.history['val_loss'], label = 'val_loss')\n",
    "    ax1.legend(loc='center right')\n",
    "\n",
    "    fig.text(0.3, 0.4, 'epoch', ha='center', va='center')\n",
    "    fig.text(0.06, 0.7, 'loss', ha='center', va='center', rotation='vertical')\n",
    "    \n",
    "    ax1.set_title(title)\n",
    "    plt.show()"
   ]
  },
  {
   "cell_type": "code",
   "execution_count": 60,
   "metadata": {
    "id": "wYZiadWcoDPO"
   },
   "outputs": [],
   "source": [
    "def modelAccuracy(history,title):\n",
    "    fig = plt.figure(dpi=150, figsize = (10,7))\n",
    "    ax1 = fig.add_subplot(221)\n",
    "\n",
    "    ax1.plot(history.history['accuracy'], label='train_accuracy')\n",
    "    ax1.plot(history.history['val_accuracy'], label = 'val_accuracy')\n",
    "    ax1.legend(loc='center right')\n",
    "\n",
    "    fig.text(0.3, 0.4, 'epoch', ha='center', va='center')\n",
    "    fig.text(0.06, 0.7, 'accuracy', ha='center', va='center', rotation='vertical')\n",
    "\n",
    "    ax1.set_title(title)\n",
    "\n",
    "    plt.show()"
   ]
  },
  {
   "cell_type": "code",
   "execution_count": 61,
   "metadata": {
    "colab": {
     "base_uri": "https://localhost:8080/",
     "height": 401
    },
    "id": "FaMmy6tqNtYp",
    "outputId": "12d92b29-2d1d-42b1-c1f8-285d4cf9317e"
   },
   "outputs": [
    {
     "data": {
      "image/png": "[encoded data removed]",
      "text/plain": [
       "<Figure size 1000x750 with 1 Axes>"
      ]
     },
     "metadata": {},
     "output_type": "display_data"
    }
   ],
   "source": [
    "modelLoss(model_history,\"Loss Validation\")"
   ]
  },
  {
   "cell_type": "code",
   "execution_count": 62,
   "metadata": {
    "colab": {
     "base_uri": "https://localhost:8080/",
     "height": 592
    },
    "id": "21_kQ3uRjaZ6",
    "outputId": "65738aed-678b-4f2c-e2fa-5b9bcb173033"
   },
   "outputs": [
    {
     "data": {
      "image/png": "[encoded data removed]",
      "text/plain": [
       "<Figure size 1500x1050 with 1 Axes>"
      ]
     },
     "metadata": {},
     "output_type": "display_data"
    }
   ],
   "source": [
    "modelAccuracy(model_history,\"Accuracy Validation\")"
   ]
  },
  {
   "cell_type": "markdown",
   "metadata": {
    "id": "fp6FRqXInUh9"
   },
   "source": [
    "### Classification report"
   ]
  },
  {
   "cell_type": "code",
   "execution_count": 63,
   "metadata": {
    "id": "IfQ0GMaSoI_g"
   },
   "outputs": [],
   "source": [
    "#confusion matrix plot function \n",
    "def plot_confusion_matrix(cm, classes, normalize=False, title='Confusion Matrix', cmap=plt.cm.Blues):\n",
    "    '''\n",
    "    This function prints and plots the confusion matrix.\n",
    "    Normalization can be applied by setting `noramlize=True`\n",
    "    '''\n",
    "    plt.rcParams[\"figure.figsize\"] = (5,8)\n",
    "    plt.imshow(cm, interpolation='nearest', cmap=cmap)\n",
    "    plt.title(title)\n",
    "\n",
    "    #plot.colorbar()\n",
    "    tick_marks = np.arange(len(classes))\n",
    "    plt.xticks(tick_marks, classes, rotation=0)\n",
    "    plt.yticks(tick_marks, classes)\n",
    "    \n",
    "    if normalize:\n",
    "        cm = cm.astype('float')/cm.sum(axis=1)[:, np.newaxis]\n",
    "        print('Normalized confusion matrix')\n",
    "    else:\n",
    "        print('confusion matrix, without Normalized')\n",
    "    \n",
    "    print(cm)\n",
    "    \n",
    "    thresh = cm.max()/2.\n",
    "    for i, j in itertools.product(range(cm.shape[0]), range(cm.shape[1])):\n",
    "        plt.text(j, i, cm[i,j],\n",
    "                horizontalalignment='center',\n",
    "                color='white' if cm[i,j] > thresh else 'black')\n",
    "    \n",
    "    plt.tight_layout()\n",
    "    plt.ylabel('Actual label')\n",
    "    plt.xlabel('Predicted label')"
   ]
  },
  {
   "cell_type": "code",
   "execution_count": 105,
   "metadata": {
    "colab": {
     "base_uri": "https://localhost:8080/"
    },
    "id": "w0ZSs0fsUVqJ",
    "outputId": "deb0696f-2143-4e71-9f13-f8717ce6f4f5"
   },
   "outputs": [
    {
     "name": "stdout",
     "output_type": "stream",
     "text": [
      "3264/3264 [==============================] - 125s 38ms/step\n"
     ]
    }
   ],
   "source": [
    "pred_custom = model.predict(x = X_test, verbose=1)\n",
    "pred_custom = pred_custom > 0.5"
   ]
  },
  {
   "cell_type": "code",
   "execution_count": 101,
   "metadata": {
    "colab": {
     "base_uri": "https://localhost:8080/"
    },
    "id": "iSZMx2RmgDgY",
    "outputId": "ec614d5f-a226-41cf-a109-14fcb725c3bc"
   },
   "outputs": [
    {
     "name": "stdout",
     "output_type": "stream",
     "text": [
      "(104443,)\n"
     ]
    }
   ],
   "source": [
    "print(pred_custom.shape)"
   ]
  },
  {
   "cell_type": "code",
   "execution_count": 106,
   "metadata": {
    "colab": {
     "base_uri": "https://localhost:8080/"
    },
    "id": "ya8XG7oSgPWe",
    "outputId": "d889b42e-ad96-4672-bffe-8093d3f4821d"
   },
   "outputs": [
    {
     "data": {
      "text/plain": [
       "277231    0\n",
       "470170    0\n",
       "164387    0\n",
       "460166    0\n",
       "621381    1\n",
       "Name: Category, dtype: int64"
      ]
     },
     "execution_count": 106,
     "metadata": {},
     "output_type": "execute_result"
    }
   ],
   "source": [
    "y_test[:5]"
   ]
  },
  {
   "cell_type": "code",
   "execution_count": 107,
   "metadata": {
    "id": "E0FBdNrBgVIJ"
   },
   "outputs": [],
   "source": [
    "cm = confusion_matrix(y_test, pred_custom)"
   ]
  },
  {
   "cell_type": "code",
   "execution_count": 108,
   "metadata": {
    "colab": {
     "base_uri": "https://localhost:8080/"
    },
    "id": "hVFfx3r7gneO",
    "outputId": "5a688c99-8022-4cf9-98c2-48df46b5593d"
   },
   "outputs": [
    {
     "data": {
      "text/plain": [
       "array([[84373,  1253],\n",
       "       [ 7910, 10907]])"
      ]
     },
     "execution_count": 108,
     "metadata": {},
     "output_type": "execute_result"
    }
   ],
   "source": [
    "cm"
   ]
  },
  {
   "cell_type": "code",
   "execution_count": 109,
   "metadata": {
    "colab": {
     "base_uri": "https://localhost:8080/",
     "height": 608
    },
    "id": "QuPXgYx6jW2s",
    "outputId": "493ffb8a-5ac2-4212-f613-a364a0c293ae"
   },
   "outputs": [
    {
     "name": "stdout",
     "output_type": "stream",
     "text": [
      "confusion matrix, without Normalized\n",
      "[[84373  1253]\n",
      " [ 7910 10907]]\n"
     ]
    },
    {
     "data": {
      "image/png": "[encoded data removed]",
      "text/plain": [
       "<Figure size 500x800 with 1 Axes>"
      ]
     },
     "metadata": {},
     "output_type": "display_data"
    }
   ],
   "source": [
    "plot_confusion_matrix(cm, classes=['0', '1'],\n",
    "                      title='Confusion matrix')"
   ]
  },
  {
   "cell_type": "code",
   "execution_count": 110,
   "metadata": {
    "colab": {
     "base_uri": "https://localhost:8080/"
    },
    "id": "tai0ZS07jbkq",
    "outputId": "b4e884be-24e5-47d1-e816-3b4c82eaf0a8"
   },
   "outputs": [
    {
     "name": "stdout",
     "output_type": "stream",
     "text": [
      "              precision    recall  f1-score   support\n",
      "\n",
      "           0       0.91      0.99      0.95     85626\n",
      "           1       0.90      0.58      0.70     18817\n",
      "\n",
      "    accuracy                           0.91    104443\n",
      "   macro avg       0.91      0.78      0.83    104443\n",
      "weighted avg       0.91      0.91      0.90    104443\n",
      "\n"
     ]
    }
   ],
   "source": [
    "print(classification_report(y_true = y_test,y_pred = pred_custom,target_names = ['0','1']))"
   ]
  },
  {
   "cell_type": "markdown",
   "metadata": {
    "id": "HlQIX9hKnl4b"
   },
   "source": [
    "### BERT Model"
   ]
  },
  {
   "cell_type": "code",
   "execution_count": 4,
   "metadata": {
    "colab": {
     "base_uri": "https://localhost:8080/"
    },
    "id": "5MTX7aF7rXSZ",
    "outputId": "c1c54c03-8ac9-4b00-b9c0-62c88588304c"
   },
   "outputs": [],
   "source": [
    "import transformers\n",
    "from transformers import BertTokenizer, TFBertForSequenceClassification"
   ]
  },
  {
   "cell_type": "code",
   "execution_count": 7,
   "metadata": {},
   "outputs": [],
   "source": [
    "# Define the tokenizer\n",
    "tokenizer = transformers.BertTokenizer.from_pretrained('bert-base-uncased')\n",
    "\n",
    "# Define the maximum sequence length\n",
    "max_length = 128\n",
    "\n",
    "# Tokenize the text data\n",
    "def tokenize_text(text):\n",
    "    return tokenizer.encode_plus(text, \n",
    "                                  add_special_tokens=True, \n",
    "                                  max_length=max_length, \n",
    "                                  padding='max_length', \n",
    "                                  truncation=True, \n",
    "                                  return_attention_mask=True,\n",
    "                                  return_tensors='tf')"
   ]
  },
  {
   "cell_type": "code",
   "execution_count": 10,
   "metadata": {
    "id": "0Kg077B6njwj"
   },
   "outputs": [
    {
     "name": "stderr",
     "output_type": "stream",
     "text": [
      "All model checkpoint layers were used when initializing TFBertForSequenceClassification.\n",
      "\n",
      "Some layers of TFBertForSequenceClassification were not initialized from the model checkpoint at bert-base-uncased and are newly initialized: ['classifier']\n",
      "You should probably TRAIN this model on a down-stream task to be able to use it for predictions and inference.\n"
     ]
    }
   ],
   "source": [
    "\n",
    "\n",
    "# Load the pre-trained BERT model\n",
    "model = transformers.TFBertForSequenceClassification.from_pretrained('bert-base-uncased')\n",
    "\n",
    "# Compile the model\n",
    "optimizer = tf.keras.optimizers.Adam(learning_rate=2e-5)\n",
    "loss = tf.keras.losses.SparseCategoricalCrossentropy(from_logits=True)\n",
    "metric = tf.keras.metrics.SparseCategoricalAccuracy('accuracy')\n",
    "model.compile(optimizer=optimizer, loss=loss, metrics=[metric])\n"
   ]
  },
  {
   "cell_type": "code",
   "execution_count": 11,
   "metadata": {},
   "outputs": [
    {
     "ename": "NameError",
     "evalue": "name 'X_train' is not defined",
     "output_type": "error",
     "traceback": [
      "\u001b[1;31m---------------------------------------------------------------------------\u001b[0m",
      "\u001b[1;31mNameError\u001b[0m                                 Traceback (most recent call last)",
      "\u001b[1;32m~\\AppData\\Local\\Temp\\ipykernel_13452\\2452722.py\u001b[0m in \u001b[0;36m<module>\u001b[1;34m\u001b[0m\n\u001b[1;32m----> 1\u001b[1;33m \u001b[0mmodel_history2\u001b[0m \u001b[1;33m=\u001b[0m \u001b[0mmodel\u001b[0m\u001b[1;33m.\u001b[0m\u001b[0mfit\u001b[0m\u001b[1;33m(\u001b[0m\u001b[0mX_train\u001b[0m\u001b[1;33m,\u001b[0m \u001b[0my_train\u001b[0m\u001b[1;33m,\u001b[0m \u001b[0mepochs\u001b[0m\u001b[1;33m=\u001b[0m\u001b[1;36m10\u001b[0m\u001b[1;33m,\u001b[0m \u001b[0mbatch_size\u001b[0m\u001b[1;33m=\u001b[0m\u001b[1;36m128\u001b[0m\u001b[1;33m,\u001b[0m \u001b[0mvalidation_data\u001b[0m\u001b[1;33m=\u001b[0m\u001b[1;33m(\u001b[0m\u001b[0mX_test\u001b[0m\u001b[1;33m,\u001b[0m \u001b[0my_test\u001b[0m\u001b[1;33m)\u001b[0m\u001b[1;33m)\u001b[0m\u001b[1;33m\u001b[0m\u001b[1;33m\u001b[0m\u001b[0m\n\u001b[0m",
      "\u001b[1;31mNameError\u001b[0m: name 'X_train' is not defined"
     ]
    }
   ],
   "source": [
    "\n",
    "model_history2 = model.fit(X_train, y_train, epochs=10, batch_size=128, validation_data=(X_test, y_test))"
   ]
  },
  {
   "cell_type": "code",
   "execution_count": null,
   "metadata": {},
   "outputs": [],
   "source": []
  }
 ],
 "metadata": {
  "colab": {
   "provenance": []
  },
  "kernelspec": {
   "display_name": "Python 3 (ipykernel)",
   "language": "python",
   "name": "python3"
  },
  "language_info": {
   "codemirror_mode": {
    "name": "ipython",
    "version": 3
   },
   "file_extension": ".py",
   "mimetype": "text/x-python",
   "name": "python",
   "nbconvert_exporter": "python",
   "pygments_lexer": "ipython3",
   "version": "3.9.13"
  }
 },
 "nbformat": 4,
 "nbformat_minor": 1
}
